{
 "cells": [
  {
   "cell_type": "code",
   "execution_count": 1,
   "metadata": {},
   "outputs": [
    {
     "name": "stderr",
     "output_type": "stream",
     "text": [
      "/Library/Frameworks/Python.framework/Versions/3.12/lib/python3.12/site-packages/pinecone/data/index.py:1: TqdmWarning: IProgress not found. Please update jupyter and ipywidgets. See https://ipywidgets.readthedocs.io/en/stable/user_install.html\n",
      "  from tqdm.autonotebook import tqdm\n"
     ]
    }
   ],
   "source": [
    "from dotenv import load_dotenv\n",
    "load_dotenv()\n",
    "import os\n",
    "from openai import OpenAI\n",
    "from pinecone import Pinecone, ServerlessSpec"
   ]
  },
  {
   "cell_type": "code",
   "execution_count": null,
   "metadata": {},
   "outputs": [],
   "source": [
    "pc = Pinecone(api_key=os.getenv(\"PINECONE_API_KEY\"))\n",
    "pc.create_index(\n",
    "    name=\"rag\", dimension=1536, metric=\"cosine\", spec=ServerlessSpec(cloud=\"aws\", region=\"us-east-1\") #for paid openai embedding models dimensions to change for gemini mostly\n",
    ")"
   ]
  },
  {
   "cell_type": "code",
   "execution_count": 14,
   "metadata": {},
   "outputs": [
    {
     "data": {
      "text/plain": [
       "[{'professor': 'John Doe',\n",
       "  'reviews': 'Professor Doe was incredibly knowledgeable and passionate about the subject. His lectures were engaging and easy to follow.',\n",
       "  'subject': 'Introduction to Programming',\n",
       "  'stars': 5},\n",
       " {'professor': 'Jane Smith',\n",
       "  'review': 'The course material was challenging, but Professor Smith was always available to answer questions and provide extra help.',\n",
       "  'subject': 'World History II',\n",
       "  'stars': 4},\n",
       " {'professor': 'Michael Johnson',\n",
       "  'review': \"Professor Johnson's labs were very helpful in understanding the material. He was always patient and encouraging.\",\n",
       "  'subject': 'Human Anatomy and Physiology',\n",
       "  'stars': 4.5},\n",
       " {'professor': 'Emily Davis',\n",
       "  'review': 'Professor Davis was a wonderful mentor. She provided constructive feedback and helped me to develop my writing skills.',\n",
       "  'subject': 'Creative Writing',\n",
       "  'stars': 5},\n",
       " {'professor': 'David Wilson',\n",
       "  'review': \"The course was difficult, but Professor Wilson's lectures were clear and concise. He was always willing to answer questions.\",\n",
       "  'subject': 'Calculus I',\n",
       "  'stars': 3.5},\n",
       " {'professor': 'Sarah Lee',\n",
       "  'review': 'Professor Lee was a very engaging teacher. Her lectures were always interesting and informative.',\n",
       "  'subject': 'Psychology',\n",
       "  'stars': 4.5},\n",
       " {'professor': 'Thomas Brown',\n",
       "  'review': \"The course was challenging, but Professor Brown's office hours were very helpful. He was always willing to provide extra help.\",\n",
       "  'subject': 'Physics',\n",
       "  'stars': 4},\n",
       " {'professor': 'Ashley Taylor',\n",
       "  'review': 'Professor Taylor was a very supportive professor. She was always available to answer questions and provide encouragement.',\n",
       "  'subject': 'Sociology',\n",
       "  'stars': 5},\n",
       " {'professor': 'Christopher Martinez',\n",
       "  'review': 'Professor Martinez was a very knowledgeable professor. His lectures were always well-prepared and easy to follow.',\n",
       "  'subject': 'Chemistry',\n",
       "  'stars': 4.5},\n",
       " {'professor': 'Jennifer Hill',\n",
       "  'review': 'Professor Hill was a very engaging teacher. Her lectures were always interesting and informative.',\n",
       "  'subject': 'English Literature',\n",
       "  'stars': 4},\n",
       " {'professor': 'James Carter',\n",
       "  'review': \"The course was challenging, but Professor Carter's office hours were very helpful. He was always willing to provide extra help.\",\n",
       "  'subject': 'Economics',\n",
       "  'stars': 3.5},\n",
       " {'professor': 'Katherine Harris',\n",
       "  'review': 'Professor Harris was a very supportive professor. She was always available to answer questions and provide encouragement.',\n",
       "  'subject': 'History',\n",
       "  'stars': 5},\n",
       " {'professor': 'Daniel Moore',\n",
       "  'review': 'Professor Moore was a very knowledgeable professor. His lectures were always well-prepared and easy to follow.',\n",
       "  'subject': 'Mathematics',\n",
       "  'stars': 4.5},\n",
       " {'professor': 'Elizabeth Turner',\n",
       "  'review': 'Professor Turner was a very engaging teacher. Her lectures were always interesting and informative.',\n",
       "  'subject': 'Biology',\n",
       "  'stars': 4},\n",
       " {'professor': 'David Johnson',\n",
       "  'review': \"The course was challenging, but Professor Johnson's office hours were very helpful. He was always willing to provide extra help.\",\n",
       "  'subject': 'Computer Science',\n",
       "  'stars': 3.5},\n",
       " {'professor': 'Sarah Williams',\n",
       "  'review': 'Professor Williams was a very supportive professor. She was always available to answer questions and provide encouragement.',\n",
       "  'subject': 'Psychology',\n",
       "  'stars': 5},\n",
       " {'professor': 'Thomas Jones',\n",
       "  'review': 'Professor Jones was a very knowledgeable professor. His lectures were always well-prepared and easy to follow.',\n",
       "  'subject': 'Physics',\n",
       "  'stars': 4.5},\n",
       " {'professor': 'Ashley Brown',\n",
       "  'review': 'Professor Brown was a very engaging teacher. Her lectures were always interesting and informative.',\n",
       "  'subject': 'Sociology',\n",
       "  'stars': 4},\n",
       " {'professor': 'Christopher Davis',\n",
       "  'review': \"The course was challenging, but Professor Davis's office hours were very helpful. He was always willing to provide extra help.\",\n",
       "  'subject': 'Chemistry',\n",
       "  'stars': 3.5},\n",
       " {'professor': 'Jennifer Smith',\n",
       "  'review': 'Professor Smith was a very supportive professor. She was always available to answer questions and provide encouragement.',\n",
       "  'subject': 'English Literature',\n",
       "  'stars': 5}]"
      ]
     },
     "execution_count": 14,
     "metadata": {},
     "output_type": "execute_result"
    }
   ],
   "source": [
    "import json\n",
    "data=json.load(open(\"reviews.json\"))\n",
    "data[\"review\"]\n"
   ]
  },
  {
   "cell_type": "code",
   "execution_count": 16,
   "metadata": {},
   "outputs": [
    {
     "ename": "KeyError",
     "evalue": "'review'",
     "output_type": "error",
     "traceback": [
      "\u001b[0;31m---------------------------------------------------------------------------\u001b[0m",
      "\u001b[0;31mKeyError\u001b[0m                                  Traceback (most recent call last)",
      "Cell \u001b[0;32mIn[16], line 6\u001b[0m\n\u001b[1;32m      2\u001b[0m client\u001b[38;5;241m=\u001b[39mOpenAI()\n\u001b[1;32m      4\u001b[0m \u001b[38;5;28;01mfor\u001b[39;00m review \u001b[38;5;129;01min\u001b[39;00m data[\u001b[38;5;124m\"\u001b[39m\u001b[38;5;124mreview\u001b[39m\u001b[38;5;124m\"\u001b[39m]:\n\u001b[1;32m      5\u001b[0m     response \u001b[38;5;241m=\u001b[39m client\u001b[38;5;241m.\u001b[39membeddings\u001b[38;5;241m.\u001b[39mcreate(\n\u001b[0;32m----> 6\u001b[0m         \u001b[38;5;28minput\u001b[39m\u001b[38;5;241m=\u001b[39m\u001b[43mreview\u001b[49m\u001b[43m[\u001b[49m\u001b[38;5;124;43m\"\u001b[39;49m\u001b[38;5;124;43mreview\u001b[39;49m\u001b[38;5;124;43m\"\u001b[39;49m\u001b[43m]\u001b[49m,\n\u001b[1;32m      7\u001b[0m         model\u001b[38;5;241m=\u001b[39m\u001b[38;5;124m\"\u001b[39m\u001b[38;5;124mtext-embedding-3-small\u001b[39m\u001b[38;5;124m\"\u001b[39m,\n\u001b[1;32m      8\u001b[0m     )\n\u001b[1;32m      9\u001b[0m     embedding \u001b[38;5;241m=\u001b[39m response\u001b[38;5;241m.\u001b[39mdata[\u001b[38;5;241m0\u001b[39m]\u001b[38;5;241m.\u001b[39membedding\n\u001b[1;32m     10\u001b[0m     processed_data\u001b[38;5;241m.\u001b[39mappend({\n\u001b[1;32m     11\u001b[0m         \u001b[38;5;124m\"\u001b[39m\u001b[38;5;124mvalues\u001b[39m\u001b[38;5;124m\"\u001b[39m: embedding,\n\u001b[1;32m     12\u001b[0m         \u001b[38;5;124m\"\u001b[39m\u001b[38;5;124mid\u001b[39m\u001b[38;5;124m\"\u001b[39m: review[\u001b[38;5;124m\"\u001b[39m\u001b[38;5;124mprofesor\u001b[39m\u001b[38;5;124m\"\u001b[39m],\n\u001b[0;32m   (...)\u001b[0m\n\u001b[1;32m     17\u001b[0m         }\n\u001b[1;32m     18\u001b[0m     })\n",
      "\u001b[0;31mKeyError\u001b[0m: 'review'"
     ]
    }
   ],
   "source": [
    "processed_data = []\n",
    "client=OpenAI()\n",
    "\n",
    "for review in data[\"review\"]:\n",
    "    response = client.embeddings.create(\n",
    "        input=review[\"review\"],\n",
    "        model=\"text-embedding-3-small\",\n",
    "    )\n",
    "    embedding = response.data[0].embedding\n",
    "    processed_data.append({\n",
    "        \"values\": embedding,\n",
    "        \"id\": review[\"profesor\"],\n",
    "        \"metadata\": {\n",
    "            \"review\": review[\"review\"],\n",
    "            \"subject\": review[\"subject\"],\n",
    "            \"stars\": review[\"stars\"]\n",
    "        }\n",
    "    })"
   ]
  },
  {
   "cell_type": "code",
   "execution_count": null,
   "metadata": {},
   "outputs": [],
   "source": [
    "index = pc.Index('rag')\n",
    "index.upsert(\n",
    "    vectors=processed_data,\n",
    "    namespace=\"ns1\",\n",
    ")"
   ]
  },
  {
   "cell_type": "code",
   "execution_count": null,
   "metadata": {},
   "outputs": [],
   "source": [
    "index.describe_index_stats()"
   ]
  }
 ],
 "metadata": {
  "kernelspec": {
   "display_name": "Python 3",
   "language": "python",
   "name": "python3"
  },
  "language_info": {
   "codemirror_mode": {
    "name": "ipython",
    "version": 3
   },
   "file_extension": ".py",
   "mimetype": "text/x-python",
   "name": "python",
   "nbconvert_exporter": "python",
   "pygments_lexer": "ipython3",
   "version": "3.12.0"
  }
 },
 "nbformat": 4,
 "nbformat_minor": 2
}
